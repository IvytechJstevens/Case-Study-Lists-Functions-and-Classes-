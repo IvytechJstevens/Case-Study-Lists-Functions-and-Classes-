{
 "cells": [
  {
   "cell_type": "code",
   "execution_count": 3,
   "id": "07fc5f1a",
   "metadata": {},
   "outputs": [
    {
     "name": "stdout",
     "output_type": "stream",
     "text": [
      "Enter the year of the car: 1999\n",
      "Enter the make of the car: Ford\n",
      "Enter the model of the car: Focus\n",
      "Enter the number of doors (2 or 4): 2\n",
      "Enter the type of roof (solid or sun roof): Solid\n",
      "\n",
      "Vehicle Information:\n",
      "Vehicle type: car\n",
      "Year: 1999\n",
      "Make: Ford\n",
      "Model: Focus\n",
      "Number of doors: 2\n",
      "Type of roof: Solid\n"
     ]
    }
   ],
   "source": [
    "class Vehicle:\n",
    "    def __init__(self, vehicle_type):\n",
    "        self.vehicle_type = vehicle_type\n",
    "\n",
    "class Automobile(Vehicle):\n",
    "    def __init__(self, vehicle_type, year, make, model, doors, roof):\n",
    "        super().__init__(vehicle_type)\n",
    "        self.year = year\n",
    "        self.make = make\n",
    "        self.model = model\n",
    "        self.doors = doors\n",
    "        self.roof = roof\n",
    "\n",
    "def main():\n",
    "    # Accept user input for a car\n",
    "    vehicle_type = \"car\"  # Assuming the vehicle type is always a car for this example\n",
    "    year = input(\"Enter the year of the car: \")\n",
    "    make = input(\"Enter the make of the car: \")\n",
    "    model = input(\"Enter the model of the car: \")\n",
    "    doors = input(\"Enter the number of doors (2 or 4): \")\n",
    "    roof = input(\"Enter the type of roof (solid or sun roof): \")\n",
    "\n",
    "    # Create an instance of the Automobile class\n",
    "    car = Automobile(vehicle_type, year, make, model, doors, roof)\n",
    "\n",
    "    # Output the data\n",
    "    print(\"\\nVehicle Information:\")\n",
    "    print(f\"Vehicle type: {car.vehicle_type}\")\n",
    "    print(f\"Year: {car.year}\")\n",
    "    print(f\"Make: {car.make}\")\n",
    "    print(f\"Model: {car.model}\")\n",
    "    print(f\"Number of doors: {car.doors}\")\n",
    "    print(f\"Type of roof: {car.roof}\")\n",
    "\n",
    "if __name__ == \"__main__\":\n",
    "    main()"
   ]
  }
 ],
 "metadata": {
  "kernelspec": {
   "display_name": "Python 3 (ipykernel)",
   "language": "python",
   "name": "python3"
  },
  "language_info": {
   "codemirror_mode": {
    "name": "ipython",
    "version": 3
   },
   "file_extension": ".py",
   "mimetype": "text/x-python",
   "name": "python",
   "nbconvert_exporter": "python",
   "pygments_lexer": "ipython3",
   "version": "3.11.5"
  }
 },
 "nbformat": 4,
 "nbformat_minor": 5
}
